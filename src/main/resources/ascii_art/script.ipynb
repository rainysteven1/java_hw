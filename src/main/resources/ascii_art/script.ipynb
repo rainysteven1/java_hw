{
 "cells": [
  {
   "cell_type": "code",
   "execution_count": 1,
   "metadata": {
    "ExecuteTime": {
     "start_time": "2024-11-06T17:20:22.366960Z",
     "end_time": "2024-11-06T17:20:22.824530Z"
    }
   },
   "outputs": [],
   "source": [
    "import numpy as np\n",
    "import pandas as pd\n",
    "\n",
    "FILENAME = \"./ascii_art.txt\"\n",
    "\n",
    "NUM = 26\n",
    "\n",
    "HEIGHT = 7\n",
    "\n",
    "WIDTH = 10"
   ]
  },
  {
   "cell_type": "code",
   "execution_count": 2,
   "metadata": {
    "ExecuteTime": {
     "start_time": "2024-11-06T17:20:22.827207Z",
     "end_time": "2024-11-06T17:20:22.829040Z"
    }
   },
   "outputs": [],
   "source": [
    "def read_ascii_art() -> np.ndarray:\n",
    "    matrices = list()\n",
    "    with open(FILENAME, \"r\") as f:\n",
    "        h_count = 0\n",
    "        matrix = np.zeros((HEIGHT, WIDTH), dtype=int)\n",
    "        while True:\n",
    "            line = f.readline()\n",
    "            if not line:\n",
    "                break\n",
    "            if h_count == HEIGHT:\n",
    "                matrices.append(matrix)\n",
    "                h_count = 0\n",
    "                matrix = np.zeros((HEIGHT, WIDTH), dtype=int)\n",
    "            else:\n",
    "                for i, char in enumerate(line):\n",
    "                    if char == \"#\":\n",
    "                        matrix[h_count][i] = 1\n",
    "                h_count += 1\n",
    "    return np.array(matrices)"
   ]
  },
  {
   "cell_type": "code",
   "execution_count": 3,
   "metadata": {
    "ExecuteTime": {
     "start_time": "2024-11-06T17:20:22.830657Z",
     "end_time": "2024-11-06T17:20:22.831667Z"
    }
   },
   "outputs": [],
   "source": [
    "def feature_extract(matrices: np.ndarray) -> pd.DataFrame:\n",
    "    sums = np.sum(matrices, axis=2)[:, [0, 3, 4, -1]]\n",
    "    feature1 = sums[:, 0] + sums[:, -1]\n",
    "    feature2 = sums[:, 1] + sums[:, 2]\n",
    "    feature3 = np.sum(matrices, axis=1)[:, 3]\n",
    "    return pd.DataFrame({\"f1\": feature1, \"f2\": feature2, \"f3\": feature3})"
   ]
  },
  {
   "cell_type": "code",
   "execution_count": 4,
   "outputs": [
    {
     "data": {
      "text/plain": "(26, 7, 10)"
     },
     "execution_count": 4,
     "metadata": {},
     "output_type": "execute_result"
    }
   ],
   "source": [
    "matrices = read_ascii_art()\n",
    "matrices.shape"
   ],
   "metadata": {
    "collapsed": false,
    "ExecuteTime": {
     "start_time": "2024-11-06T17:20:22.832565Z",
     "end_time": "2024-11-06T17:20:22.836352Z"
    }
   }
  },
  {
   "cell_type": "code",
   "execution_count": 5,
   "outputs": [
    {
     "data": {
      "text/plain": "array([32, 40, 26, 36, 30, 24, 32, 33, 18, 22, 29, 20, 37, 36, 34, 30, 36,\n       36, 30, 20, 31, 27, 40, 27, 20, 26])"
     },
     "execution_count": 5,
     "metadata": {},
     "output_type": "execute_result"
    }
   ],
   "source": [
    "np.sum(np.sum(matrices, axis=2), axis=1)"
   ],
   "metadata": {
    "collapsed": false,
    "ExecuteTime": {
     "start_time": "2024-11-06T17:20:22.838646Z",
     "end_time": "2024-11-06T17:20:22.840133Z"
    }
   }
  },
  {
   "cell_type": "code",
   "execution_count": 6,
   "outputs": [],
   "source": [
    "df = feature_extract(matrices)\n",
    "df[\"f4\"] = df[\"f1\"] * df[\"f2\"] * df[\"f3\"] + df[\"f1\"] + df[\"f2\"] + df[\"f3\"]\n",
    "df[\"label\"] = np.array([chr(i + 65) for i in range(26)])\n",
    "duplicates = df[df.duplicated(subset=[\"f4\"], keep=False)]"
   ],
   "metadata": {
    "collapsed": false,
    "ExecuteTime": {
     "start_time": "2024-11-06T17:20:22.843813Z",
     "end_time": "2024-11-06T17:20:22.866712Z"
    }
   }
  },
  {
   "cell_type": "code",
   "execution_count": 7,
   "metadata": {
    "ExecuteTime": {
     "start_time": "2024-11-06T17:20:22.846404Z",
     "end_time": "2024-11-06T17:20:22.872271Z"
    }
   },
   "outputs": [
    {
     "data": {
      "text/plain": "    f1  f2  f3   f4 label\n0    7  13   3  296     A\n1   16  12   3  607     B\n2   12   4   2  114     C\n3   16   8   2  282     D\n4   16   8   3  411     E\n5   10   8   2  180     F\n6   12  10   2  264     G\n7    8  13   1  126     H\n8    8   4   2   78     I\n9    8   6   1   63     J\n10   8   9   1   90     K\n11  10   4   1   55     L\n12   8  11   2  197     M\n13   8  12   2  214     N\n14  14   8   2  248     O\n15  10  10   2  222     P\n16  14  10   2  306     Q\n17  12  12   2  314     R\n18  12   8   3  311     S\n19  10   4   7  301     T\n20  11   8   1  108     U\n21   7   8   2  129     V\n22  10  12   1  143     W\n23   8   7   3  186     X\n24   6   4   5  135     Y\n25  16   4   4  280     Z",
      "text/html": "<div>\n<style scoped>\n    .dataframe tbody tr th:only-of-type {\n        vertical-align: middle;\n    }\n\n    .dataframe tbody tr th {\n        vertical-align: top;\n    }\n\n    .dataframe thead th {\n        text-align: right;\n    }\n</style>\n<table border=\"1\" class=\"dataframe\">\n  <thead>\n    <tr style=\"text-align: right;\">\n      <th></th>\n      <th>f1</th>\n      <th>f2</th>\n      <th>f3</th>\n      <th>f4</th>\n      <th>label</th>\n    </tr>\n  </thead>\n  <tbody>\n    <tr>\n      <th>0</th>\n      <td>7</td>\n      <td>13</td>\n      <td>3</td>\n      <td>296</td>\n      <td>A</td>\n    </tr>\n    <tr>\n      <th>1</th>\n      <td>16</td>\n      <td>12</td>\n      <td>3</td>\n      <td>607</td>\n      <td>B</td>\n    </tr>\n    <tr>\n      <th>2</th>\n      <td>12</td>\n      <td>4</td>\n      <td>2</td>\n      <td>114</td>\n      <td>C</td>\n    </tr>\n    <tr>\n      <th>3</th>\n      <td>16</td>\n      <td>8</td>\n      <td>2</td>\n      <td>282</td>\n      <td>D</td>\n    </tr>\n    <tr>\n      <th>4</th>\n      <td>16</td>\n      <td>8</td>\n      <td>3</td>\n      <td>411</td>\n      <td>E</td>\n    </tr>\n    <tr>\n      <th>5</th>\n      <td>10</td>\n      <td>8</td>\n      <td>2</td>\n      <td>180</td>\n      <td>F</td>\n    </tr>\n    <tr>\n      <th>6</th>\n      <td>12</td>\n      <td>10</td>\n      <td>2</td>\n      <td>264</td>\n      <td>G</td>\n    </tr>\n    <tr>\n      <th>7</th>\n      <td>8</td>\n      <td>13</td>\n      <td>1</td>\n      <td>126</td>\n      <td>H</td>\n    </tr>\n    <tr>\n      <th>8</th>\n      <td>8</td>\n      <td>4</td>\n      <td>2</td>\n      <td>78</td>\n      <td>I</td>\n    </tr>\n    <tr>\n      <th>9</th>\n      <td>8</td>\n      <td>6</td>\n      <td>1</td>\n      <td>63</td>\n      <td>J</td>\n    </tr>\n    <tr>\n      <th>10</th>\n      <td>8</td>\n      <td>9</td>\n      <td>1</td>\n      <td>90</td>\n      <td>K</td>\n    </tr>\n    <tr>\n      <th>11</th>\n      <td>10</td>\n      <td>4</td>\n      <td>1</td>\n      <td>55</td>\n      <td>L</td>\n    </tr>\n    <tr>\n      <th>12</th>\n      <td>8</td>\n      <td>11</td>\n      <td>2</td>\n      <td>197</td>\n      <td>M</td>\n    </tr>\n    <tr>\n      <th>13</th>\n      <td>8</td>\n      <td>12</td>\n      <td>2</td>\n      <td>214</td>\n      <td>N</td>\n    </tr>\n    <tr>\n      <th>14</th>\n      <td>14</td>\n      <td>8</td>\n      <td>2</td>\n      <td>248</td>\n      <td>O</td>\n    </tr>\n    <tr>\n      <th>15</th>\n      <td>10</td>\n      <td>10</td>\n      <td>2</td>\n      <td>222</td>\n      <td>P</td>\n    </tr>\n    <tr>\n      <th>16</th>\n      <td>14</td>\n      <td>10</td>\n      <td>2</td>\n      <td>306</td>\n      <td>Q</td>\n    </tr>\n    <tr>\n      <th>17</th>\n      <td>12</td>\n      <td>12</td>\n      <td>2</td>\n      <td>314</td>\n      <td>R</td>\n    </tr>\n    <tr>\n      <th>18</th>\n      <td>12</td>\n      <td>8</td>\n      <td>3</td>\n      <td>311</td>\n      <td>S</td>\n    </tr>\n    <tr>\n      <th>19</th>\n      <td>10</td>\n      <td>4</td>\n      <td>7</td>\n      <td>301</td>\n      <td>T</td>\n    </tr>\n    <tr>\n      <th>20</th>\n      <td>11</td>\n      <td>8</td>\n      <td>1</td>\n      <td>108</td>\n      <td>U</td>\n    </tr>\n    <tr>\n      <th>21</th>\n      <td>7</td>\n      <td>8</td>\n      <td>2</td>\n      <td>129</td>\n      <td>V</td>\n    </tr>\n    <tr>\n      <th>22</th>\n      <td>10</td>\n      <td>12</td>\n      <td>1</td>\n      <td>143</td>\n      <td>W</td>\n    </tr>\n    <tr>\n      <th>23</th>\n      <td>8</td>\n      <td>7</td>\n      <td>3</td>\n      <td>186</td>\n      <td>X</td>\n    </tr>\n    <tr>\n      <th>24</th>\n      <td>6</td>\n      <td>4</td>\n      <td>5</td>\n      <td>135</td>\n      <td>Y</td>\n    </tr>\n    <tr>\n      <th>25</th>\n      <td>16</td>\n      <td>4</td>\n      <td>4</td>\n      <td>280</td>\n      <td>Z</td>\n    </tr>\n  </tbody>\n</table>\n</div>"
     },
     "execution_count": 7,
     "metadata": {},
     "output_type": "execute_result"
    }
   ],
   "source": [
    "df"
   ]
  },
  {
   "cell_type": "code",
   "execution_count": 8,
   "metadata": {
    "ExecuteTime": {
     "start_time": "2024-11-06T17:20:22.853733Z",
     "end_time": "2024-11-06T17:20:22.872465Z"
    }
   },
   "outputs": [
    {
     "data": {
      "text/plain": "Empty DataFrame\nColumns: [f1, f2, f3, f4, label]\nIndex: []",
      "text/html": "<div>\n<style scoped>\n    .dataframe tbody tr th:only-of-type {\n        vertical-align: middle;\n    }\n\n    .dataframe tbody tr th {\n        vertical-align: top;\n    }\n\n    .dataframe thead th {\n        text-align: right;\n    }\n</style>\n<table border=\"1\" class=\"dataframe\">\n  <thead>\n    <tr style=\"text-align: right;\">\n      <th></th>\n      <th>f1</th>\n      <th>f2</th>\n      <th>f3</th>\n      <th>f4</th>\n      <th>label</th>\n    </tr>\n  </thead>\n  <tbody>\n  </tbody>\n</table>\n</div>"
     },
     "execution_count": 8,
     "metadata": {},
     "output_type": "execute_result"
    }
   ],
   "source": [
    "duplicates"
   ]
  }
 ],
 "metadata": {
  "kernelspec": {
   "display_name": "CUHKSZ",
   "language": "python",
   "name": "python3"
  },
  "language_info": {
   "codemirror_mode": {
    "name": "ipython",
    "version": 3
   },
   "file_extension": ".py",
   "mimetype": "text/x-python",
   "name": "python",
   "nbconvert_exporter": "python",
   "pygments_lexer": "ipython3",
   "version": "3.10.14"
  }
 },
 "nbformat": 4,
 "nbformat_minor": 2
}
